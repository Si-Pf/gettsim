{
 "cells": [
  {
   "cell_type": "markdown",
   "metadata": {},
   "source": [
    "# Advanced Interface Tutorial"
   ]
  },
  {
   "cell_type": "code",
   "execution_count": null,
   "metadata": {},
   "outputs": [],
   "source": [
    "import pandas as pd\n",
    "import numpy as np"
   ]
  },
  {
   "cell_type": "code",
   "execution_count": null,
   "metadata": {},
   "outputs": [],
   "source": [
    "from gettsim import set_up_policy_environment\n",
    "from gettsim import compute_taxes_and_transfers\n",
    "\n",
    "from gettsim import plot_dag"
   ]
  },
  {
   "cell_type": "code",
   "execution_count": null,
   "metadata": {},
   "outputs": [],
   "source": [
    "# Load policy parameters and functions\n",
    "params_dict, policy_func_dict = set_up_policy_environment(\"05/09/2020\")"
   ]
  },
  {
   "cell_type": "markdown",
   "metadata": {},
   "source": [
    "In this part we will provide a simulated data set and apply GETTSIM to it. We will also see how it is possible to apply GETTSIM to real data sets. In the part before we had a look on a dataset with one individual. Now we will go further and make our data set more detailed by adding data step by step.\n",
    "\n",
    "In general, GETTSIM requires a Pandas data frame as data input. There are 41 possible input variables (a list of them  [here](https://gettsim.readthedocs.io/en/latest/crosswalk.html)), but which of these you will need depends on what you are willing to compute. So, if you have a real data set, you will most likely have to adjust it, such that:\n",
    "\n",
    "1. it contains the variables needed to compute your targets\n",
    "2. these variables are named according to the standard of GETTSIM\n",
    "\n",
    "If you are not too familiar with the german tax and transfer system, it might be difficult to know which data you have to pass to GETTSIM to let in compute your reults of interest. To figure out which variables you need [this](gettsim.readthedocs.io/en/latest/tutorials/visualizing_the_system.html) guide might be helpful. Below, we will see a small application to the child benefit.\n",
    "\n",
    "But for now, let us first have a look on some simulated data. We will look on different household structures and then see in an application of GETTSIM how this is important for the child benefit and the Kinderfreibetrag.\n",
    "\n",
    "#### Simulating some data\n",
    "\n",
    "First of all, we are creating a base set: 131 individuals with an working income **per month** (as you remember, this is  is marked by the suffix `_m` after `bruttolohn`) reaching from 1500 to 8000."
   ]
  },
  {
   "cell_type": "code",
   "execution_count": null,
   "metadata": {},
   "outputs": [],
   "source": [
    "min_income = 1500\n",
    "max_income = 8000\n",
    "steps = 131\n",
    "\n",
    "df_base = pd.DataFrame(index=pd.RangeIndex(steps))\n",
    "\n",
    "# Haushalts-ID und Steuersubjekt-ID: In unserem Beispiel kein Unterschied\n",
    "df_base[\"hh_id\"] = df_base.index\n",
    "df_base[\"tu_id\"] = df_base.index\n",
    "# Bruttolohn ist am einfachsten, jetzt zu erstellen und für Kinder auf 0 zu setzen.\n",
    "df_base[\"bruttolohn_m\"] = np.linspace(min_income, max_income, steps)\n",
    "# Vermögen, private Krankenversicherung sind dasselbe für alle Haushaltsmitglieder\n",
    "df_base[\"vermögen_hh\"] = 0\n",
    "df_base[\"prv_krankenv\"] = False"
   ]
  },
  {
   "cell_type": "markdown",
   "metadata": {},
   "source": [
    "Our goal is to have in the end three types of households: Pairs with 0, 1 or 2 children. To get there we first append our base data frame four times to itself."
   ]
  },
  {
   "cell_type": "code",
   "execution_count": null,
   "metadata": {},
   "outputs": [],
   "source": [
    "df_2e_2k = df_base.append(df_base).append(df_base).append(df_base).sort_index()\n",
    "df_2e_2k.index = pd.RangeIndex(len(df_2e_2k), name=\"p_id\")\n",
    "df_2e_2k"
   ]
  },
  {
   "cell_type": "markdown",
   "metadata": {},
   "source": [
    "We could see this as 131 houdeholds or transfer units with 4 members. But first, 2 of them should be children without income, and there are some further variables relavant for GETTSIM to deal with Kindergeld and Kinderfreibetrag.\n",
    "\n",
    "To figure out which variables are relevant for e.g. the child benefit, you may have a look at a dagplot. We imported `plot_dag` at the beginning, what makes it possible to create these dagplots. If you are interested in the variables relevant for e.g. `kindergeld_m`, you can have a look at the *ancestors* of `kindergeld_m`:"
   ]
  },
  {
   "cell_type": "code",
   "execution_count": null,
   "metadata": {},
   "outputs": [],
   "source": [
    "selector = {\"type\": \"ancestors\", \"node\": \"kindergeld_m\", \"order\":15}\n",
    "\n",
    "plot_dag(functions=policy_func_dict, selectors=selector);"
   ]
  },
  {
   "cell_type": "markdown",
   "metadata": {},
   "source": [
    "In the plot you see not only the relevant variables which need to be given by the data, but also all the functions GETTSIM uses to compute `kindergeld_m`. `\"node\"`specifies the node of interest, while `\"order\"` specifies the number of ancestor nodes you want to see. If you want to see all relevant variables, you should set this number to a high level.\n",
    "\n",
    "You can also plot the descendents of a vaiable or a function by changing `\"ancestors\"`to `\"descendents\"`. It is explained more detailed in the tutorial linked at the beginning of this tutorial."
   ]
  },
  {
   "cell_type": "code",
   "execution_count": null,
   "metadata": {},
   "outputs": [],
   "source": [
    "# Adults\n",
    "for modulus in 0, 1:\n",
    "    df_2e_2k.loc[df_2e_2k.index % 4 == modulus, \"alter\"] = 50\n",
    "    df_2e_2k.loc[df_2e_2k.index % 4 == modulus, \"hat_kinder\"] = True\n",
    "    df_2e_2k.loc[df_2e_2k.index % 4 == modulus, \"kind\"] = False\n",
    "\n",
    "    df_2e_2k.loc[df_2e_2k.index % 4 == modulus, \"selbstständig\"] = False\n",
    "    df_2e_2k.loc[df_2e_2k.index % 4 == modulus, \"eink_selbst_m\"] = 0\n",
    "    df_2e_2k.loc[df_2e_2k.index % 4 == modulus, \"ges_rente_m\"] = 0\n",
    "    df_2e_2k.loc[df_2e_2k.index % 4 == modulus, \"vermiet_eink_m\"] = 0\n",
    "    df_2e_2k.loc[df_2e_2k.index % 4 == modulus, \"kapital_eink_m\"] = 0\n",
    "    df_2e_2k.loc[df_2e_2k.index % 4 == modulus, \"prv_rente_beitr_m\"] = 0\n",
    "\n",
    "    df_2e_2k.loc[df_2e_2k.index % 4 == modulus, \"wohnort_ost\"] = False\n",
    "    df_2e_2k.loc[df_2e_2k.index % 4 == modulus, \"jahr_renteneintr\"] = 2100\n",
    "    df_2e_2k.loc[df_2e_2k.index % 4 == modulus, \"betreuungskost_m\"] = 0\n",
    "    df_2e_2k.loc[df_2e_2k.index % 4 == modulus, \"in_ausbildung\"] = False\n",
    "    df_2e_2k.loc[df_2e_2k.index % 4 == modulus, \"behinderungsgrad\"] = 0\n",
    "    df_2e_2k.loc[df_2e_2k.index % 4 == modulus, \"arbeitsstunden_w\"] = 40\n",
    "    df_2e_2k.loc[df_2e_2k.index % 4 == modulus, \"alleinerziehend\"] = False\n",
    "\n",
    "# Children\n",
    "for modulus in 2, 3:\n",
    "    df_2e_2k.loc[df_2e_2k.index % 4 == modulus, \"bruttolohn_m\"] = np.nan\n",
    "    df_2e_2k.loc[df_2e_2k.index % 4 == modulus, \"kind\"] = True\n",
    "    df_2e_2k.loc[df_2e_2k.index % 4 == modulus, \"hat_kinder\"] = False\n",
    "    df_2e_2k.loc[df_2e_2k.index % 4 == modulus, \"alleinerziehend\"] = False\n",
    "    \n",
    "\n",
    "# First child: 10 years old\n",
    "modulus = 2\n",
    "df_2e_2k.loc[df_2e_2k.index % 4 == modulus, \"alter\"] = 10\n",
    "\n",
    "# Second child: 5 years old\n",
    "modulus = 3\n",
    "df_2e_2k.loc[df_2e_2k.index % 4 == modulus, \"alter\"] = 5\n",
    "\n",
    "# Some variables must be booleans\n",
    "for col in \"kind\", \"hat_kinder\", \"alleinerziehend\":\n",
    "    df_2e_2k[col] = df_2e_2k[col].astype('bool')\n",
    "df_2e_2k"
   ]
  },
  {
   "cell_type": "code",
   "execution_count": null,
   "metadata": {},
   "outputs": [],
   "source": [
    "# Delete the five year old child to have households with only one child\n",
    "df_2e_1k = df_2e_2k.query(\"alter > 5\").copy()\n",
    "df_2e_1k"
   ]
  },
  {
   "cell_type": "code",
   "execution_count": null,
   "metadata": {},
   "outputs": [],
   "source": [
    "# Delete both children to have households without children\n",
    "df_2e_0k = df_2e_2k.query(\"alter > 10\").copy()\n",
    "df_2e_0k"
   ]
  },
  {
   "cell_type": "markdown",
   "metadata": {},
   "source": [
    "Now we have three data frames: One with households with two children, one with households with one child and one with households withour children. We could apply GETTSIM to each of them, if we wanted to do so. But we also can group them in a dict:"
   ]
  },
  {
   "cell_type": "code",
   "execution_count": null,
   "metadata": {},
   "outputs": [],
   "source": [
    "data_nr_children = {\n",
    "    0: df_2e_0k,\n",
    "    1: df_2e_1k,\n",
    "    2: df_2e_2k,\n",
    "}"
   ]
  },
  {
   "cell_type": "markdown",
   "metadata": {},
   "source": [
    "For the sake of simplicity we will focus on the dataframe with two adults and two children in the further tutorials. Therefore, we save it in CSV formate:"
   ]
  },
  {
   "cell_type": "code",
   "execution_count": null,
   "metadata": {},
   "outputs": [],
   "source": [
    "df_2e_2k.to_csv('2p_2c.csv')"
   ]
  },
  {
   "cell_type": "markdown",
   "metadata": {},
   "source": [
    "We can already apply GETTSIM to the data frames. Our targets are the ID of the transfer unit, the child benefit, the income tax and the Solidaritätszuschlag, each on transfer unit level:"
   ]
  },
  {
   "cell_type": "code",
   "execution_count": null,
   "metadata": {},
   "outputs": [],
   "source": [
    "results_nr_children = {}\n",
    "for nr_children, data in data_nr_children.items():\n",
    "    results_nr_children[nr_children] = compute_taxes_and_transfers(\n",
    "        data,\n",
    "        functions=policy_func_dict,\n",
    "        params=params_dict,\n",
    "        targets=[\n",
    "                \"tu_id\",\n",
    "                \"kindergeld_m_tu\",\n",
    "                \"eink_st_tu\",\n",
    "                \"soli_st_tu\",\n",
    "            ],\n",
    "    )\n",
    "\n",
    "results_nr_children[2]"
   ]
  },
  {
   "cell_type": "markdown",
   "metadata": {},
   "source": [
    "This is the output GETTSIM coumptes for the households with two children (as marked by `_tu`, every value is on transfer unit base). It's not very aesthetic, so you might want to adjust it to your purpose. For example, the child benefit is on monthly, but the taxes on yearly basis. Furthermore, all values are replicated for the members of a transfer unit.\n",
    "\n",
    "At the moment we also have three data frames for the different household types. For a better comparison, we can put them together."
   ]
  },
  {
   "cell_type": "code",
   "execution_count": null,
   "metadata": {},
   "outputs": [],
   "source": [
    "for nr_children in results_nr_children.keys():\n",
    "    # child benefit yearly by transfer unit\n",
    "    results_nr_children[nr_children][\"kindergeld_tu\"] = results_nr_children[nr_children][\"kindergeld_m_tu\"] * 12\n",
    "    # delete monthly values\n",
    "    results_nr_children[nr_children] = results_nr_children[nr_children].drop(\"kindergeld_m_tu\", axis=1)\n",
    "    # one line per transfer unit\n",
    "    results_nr_children[nr_children] = results_nr_children[nr_children].drop_duplicates(\"tu_id\").set_index(\"tu_id\")\n",
    "    #\n",
    "    if nr_children == 0:\n",
    "        add = \"no children\"\n",
    "    elif nr_children == 1:\n",
    "        add = \"one child\"\n",
    "    elif nr_children == 2:\n",
    "        add = \"two children\"\n",
    "    else:\n",
    "        raise NotImplementedError(f\"n_kinder = {nr_children}\")\n",
    "    results_nr_children[nr_children] = results_nr_children[nr_children].rename(\n",
    "        columns={\n",
    "            \"kindergeld_tu\": \"child benefit, \" + add,\n",
    "            \"eink_st_tu\": \"income tax, \" + add,\n",
    "            \"soli_st_tu\": \"Soli, \" + add,\n",
    "        }\n",
    "    )\n",
    "    "
   ]
  },
  {
   "cell_type": "code",
   "execution_count": null,
   "metadata": {},
   "outputs": [],
   "source": [
    "total_inc_tu = data_nr_children[0].groupby(\"tu_id\")[\"bruttolohn_m\"].sum() * 12\n",
    "total_inc_tu.name = \"total income tax unit\"\n",
    "total_inc_tu.head()"
   ]
  },
  {
   "cell_type": "markdown",
   "metadata": {},
   "source": [
    "This is the total income per tax unit. We get there by summing up the incomes of every household member. Note that this only works because the monthly working income of the adults is the only income per household.\n",
    "\n",
    "We now put the total income per tax unit together with the output of GETTSIM for ervery household type:"
   ]
  },
  {
   "cell_type": "code",
   "execution_count": null,
   "metadata": {},
   "outputs": [],
   "source": [
    "comparison = total_inc_tu.to_frame().join(results_nr_children[0]).join(results_nr_children[1]).join(results_nr_children[2]).set_index(\"total income tax unit\").round(2)\n",
    "comparison"
   ]
  },
  {
   "cell_type": "markdown",
   "metadata": {},
   "source": [
    "## Dealing with real data\n",
    "\n",
    "It is possible to convert a lot of data formats to a pandas data frame. E.g. if your data has .dta format, you could use `pandas.read_Stata()`."
   ]
  },
  {
   "cell_type": "code",
   "execution_count": null,
   "metadata": {},
   "outputs": [],
   "source": []
  },
  {
   "cell_type": "code",
   "execution_count": null,
   "metadata": {},
   "outputs": [],
   "source": []
  }
 ],
 "metadata": {
  "kernelspec": {
   "display_name": "Python 3",
   "language": "python",
   "name": "python3"
  },
  "language_info": {
   "codemirror_mode": {
    "name": "ipython",
    "version": 3
   },
   "file_extension": ".py",
   "mimetype": "text/x-python",
   "name": "python",
   "nbconvert_exporter": "python",
   "pygments_lexer": "ipython3",
   "version": "3.8.3"
  }
 },
 "nbformat": 4,
 "nbformat_minor": 4
}
