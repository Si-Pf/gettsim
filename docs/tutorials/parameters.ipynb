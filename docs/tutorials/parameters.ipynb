{
 "cells": [
  {
   "cell_type": "markdown",
   "metadata": {},
   "source": [
    "# Parameters Tutorial"
   ]
  },
  {
   "cell_type": "code",
   "execution_count": null,
   "metadata": {},
   "outputs": [],
   "source": [
    "import pandas as pd\n",
    "import numpy as np\n",
    "\n",
    "import matplotlib.pyplot as plt\n",
    "plt.rcParams[\"figure.dpi\"] = 144\n",
    "from itertools import product\n",
    "\n",
    "import gettsim\n",
    "from gettsim import get_policies_for_date\n",
    "from gettsim import compute_taxes_and_transfers"
   ]
  },
  {
   "cell_type": "markdown",
   "metadata": {},
   "source": [
    "# What is this Notebook about?\n",
    "\n",
    "We will now take a closer look at the ```params_dict``` of GETTSIM. It is a dictionary that contains the date-specific parameters that are necessary to compute the target variables we are interested in. Using an example we will take a look at the dictionary and learn how to change parameters in the dictionary to model reforms of the German Tax and Transfer System.  "
   ]
  },
  {
   "cell_type": "code",
   "execution_count": null,
   "metadata": {},
   "outputs": [],
   "source": [
    "params_dict, policy_func_dict = get_policies_for_date(\"2020\")"
   ]
  },
  {
   "cell_type": "markdown",
   "metadata": {},
   "source": [
    "In 2020, the German government pays a special child bonus of 300€ per child to households with children as a part of a stimulus package. The households will receive the special child bonus as a part of the *Kindergeld*\n",
    "\n",
    "*Small Recap: Kindergeld is a child benefit that can be claimed by parents. Mainly low-income families can benefit from \"Kindgergeld\". For higher-income families the tax allowances for children are more advantageous, so that they dont receive \"Kindergeld\".*\n",
    "\n",
    "We will now edit GETTSIM by changing the relevant parameter to model this reform:\n",
    "\n",
    "### 1. Find the relevant parameter\n",
    "\n",
    "You can open the params_dict by typing ```params_dict```. You will see all the parameters with all the assigned values, but it might look confusing.\n",
    "\n",
    "Instead we will work us through the dictionary step by step. First we will look at the ```keys``` of the ```dict```. "
   ]
  },
  {
   "cell_type": "code",
   "execution_count": null,
   "metadata": {},
   "outputs": [],
   "source": [
    "print(*params_dict.keys(), sep=\"\\n\")"
   ]
  },
  {
   "cell_type": "markdown",
   "metadata": {},
   "source": [
    "We can see the key \"kindergeld\". Let´s take a closer look there..."
   ]
  },
  {
   "cell_type": "code",
   "execution_count": null,
   "metadata": {},
   "outputs": [],
   "source": [
    "print(*params_dict[\"kindergeld\"].keys(), sep=\"\\n\")"
   ]
  },
  {
   "cell_type": "markdown",
   "metadata": {},
   "source": [
    "kindergeld_hoechstalter is the maximum age of a child that is eligable for Kindergeld\n",
    "\n",
    "kindergeld is the amount of money that the parents receive for their children\n",
    "\n",
    "kindergeld_einkommensgrenze is the maximum annual income of a child that is still entitled to child benefit\n",
    "\n",
    "kindergeld_studengrenze is the maximum number of weekly working hours of a child that is still entitled to child benefit\n",
    "\n",
    "jahr and datum specify when the parameters were the actual status of the German Tax and Transfer System.\n",
    "\n",
    "The reform we are simulating influences the actual amount of money that parents receive for their children. Lets take a look at the value of this parameter:"
   ]
  },
  {
   "cell_type": "code",
   "execution_count": null,
   "metadata": {},
   "outputs": [],
   "source": [
    "params_dict[\"kindergeld\"][\"kindergeld\"]"
   ]
  },
  {
   "cell_type": "markdown",
   "metadata": {},
   "source": [
    "For the first and second child, the monthly \"Kindergeld\" is 204€. For the third child, monthly \"Kindergeld\" is 210€. For each additional child, \"Kindergeld\" is 235€.\n",
    "\n",
    "### 2. Change the relevant parameter\n",
    "\n",
    "In a first step we need to do a ```deepcopy``` of  the ```params_dict```. By deep copying, structure and content of the two dictionaries will be completely isolated."
   ]
  },
  {
   "cell_type": "code",
   "execution_count": null,
   "metadata": {},
   "outputs": [],
   "source": [
    "from copy import deepcopy\n",
    "\n",
    "\n",
    "params_dict_reformed = deepcopy(params_dict)"
   ]
  },
  {
   "cell_type": "markdown",
   "metadata": {},
   "source": [
    "Using a loop, we add the 300€ to each entry of ```params_dict_reformiert[\"kindergeld\"][\"kindergeld\"]```. As the parameter is defined on a monthly level, we divide 300€ by 12."
   ]
  },
  {
   "cell_type": "code",
   "execution_count": null,
   "metadata": {},
   "outputs": [],
   "source": [
    "for n in params_dict_reformed[\"kindergeld\"][\"kindergeld\"]:\n",
    "    params_dict_reformed[\"kindergeld\"][\"kindergeld\"][n] = params_dict_reformed[\"kindergeld\"][\"kindergeld\"][n] + 300 / 12"
   ]
  },
  {
   "cell_type": "markdown",
   "metadata": {},
   "source": [
    "Now we can check if the ```params_dict_reformed``` actually shows different values for the ```[\"kindergeld\"][\"kindergeld\"]``` entries:"
   ]
  },
  {
   "cell_type": "code",
   "execution_count": null,
   "metadata": {},
   "outputs": [],
   "source": [
    "params_dict_reformed[\"kindergeld\"][\"kindergeld\"] "
   ]
  },
  {
   "cell_type": "markdown",
   "metadata": {},
   "source": [
    "It worked, we raised all values by 300/12.\n",
    "\n",
    "### 3. Apply reformed parameter to simulated households"
   ]
  }
 ],
 "metadata": {
  "kernelspec": {
   "display_name": "Python 3",
   "language": "python",
   "name": "python3"
  },
  "language_info": {
   "codemirror_mode": {
    "name": "ipython",
    "version": 3
   },
   "file_extension": ".py",
   "mimetype": "text/x-python",
   "name": "python",
   "nbconvert_exporter": "python",
   "pygments_lexer": "ipython3",
   "version": "3.7.6"
  }
 },
 "nbformat": 4,
 "nbformat_minor": 4
}
