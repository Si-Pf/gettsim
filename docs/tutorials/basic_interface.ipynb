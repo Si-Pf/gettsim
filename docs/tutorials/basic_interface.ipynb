{
 "cells": [
  {
   "cell_type": "markdown",
   "metadata": {},
   "source": [
    "# Basic Interface Tutorial"
   ]
  },
  {
   "cell_type": "markdown",
   "metadata": {},
   "source": [
    "## Part 1: What is GETTSIM and how does it work?\n",
    "\n",
    "You may find an installation guide [here](gettsim.readthedocs.io/en/latest/tutorials/installation.html)\n",
    "\n",
    "GETTSIM provides an almost complete simulation of the german tax and transfer system. In this very introductory part of the tutorial we will focus on two central functions in GETTSIM: `get_policies_for_date` and `compute_taxes_and_transfers`, so in a first step, we import both:"
   ]
  },
  {
   "cell_type": "code",
   "execution_count": 1,
   "metadata": {},
   "outputs": [],
   "source": [
    "import pandas as pd\n",
    "\n",
    "from gettsim import set_up_policy_environment\n",
    "from gettsim import compute_taxes_and_transfers"
   ]
  },
  {
   "cell_type": "markdown",
   "metadata": {},
   "source": [
    "GETTSIM might be interesting for both students and scientists. While students might use GETTSIM as an introduction to the german tax and transfer system or as a part of a project or a thesis, scientists can use it for advanced microsimulations.\n",
    "\n",
    "This first part of the tutorial is designed to be a more general and very basic introduction for newcomers. After having a look at GETTSIM with very simple data structures here, the tutorial proceeds in part 2 by applying GETTSIM on other types of data and creating a simulated set of data, while part 3 and 4 concentartes on adjusting GETTSIM's parameters and function, to e.g. implement a policy reform.\n",
    "\n",
    "In GETTSIM, there are 41 input variables, as especially the transfers depend on a lot of different variables. There is a detailed (**but somewhat wrong?**) list of them [here](https://gettsim.readthedocs.io/en/latest/crosswalk.html). But for now, as an example, we will have a look on those needed to calculate the income tax and the social security contributions for an individual. For this purpose, we define a data frame with them:\n",
    "\n",
    "#### Create data for one individual"
   ]
  },
  {
   "cell_type": "code",
   "execution_count": 2,
   "metadata": {},
   "outputs": [
    {
     "data": {
      "text/html": [
       "<div>\n",
       "<style scoped>\n",
       "    .dataframe tbody tr th:only-of-type {\n",
       "        vertical-align: middle;\n",
       "    }\n",
       "\n",
       "    .dataframe tbody tr th {\n",
       "        vertical-align: top;\n",
       "    }\n",
       "\n",
       "    .dataframe thead th {\n",
       "        text-align: right;\n",
       "    }\n",
       "</style>\n",
       "<table border=\"1\" class=\"dataframe\">\n",
       "  <thead>\n",
       "    <tr style=\"text-align: right;\">\n",
       "      <th></th>\n",
       "      <th>0</th>\n",
       "    </tr>\n",
       "  </thead>\n",
       "  <tbody>\n",
       "    <tr>\n",
       "      <th>p_id</th>\n",
       "      <td>1</td>\n",
       "    </tr>\n",
       "    <tr>\n",
       "      <th>tu_id</th>\n",
       "      <td>1</td>\n",
       "    </tr>\n",
       "    <tr>\n",
       "      <th>hh_id</th>\n",
       "      <td>1</td>\n",
       "    </tr>\n",
       "    <tr>\n",
       "      <th>bruttolohn_m</th>\n",
       "      <td>2000</td>\n",
       "    </tr>\n",
       "    <tr>\n",
       "      <th>_zu_verst_eink_kein_kinderfreib_tu</th>\n",
       "      <td>24000</td>\n",
       "    </tr>\n",
       "    <tr>\n",
       "      <th>_zu_verst_kapital_eink_tu</th>\n",
       "      <td>0</td>\n",
       "    </tr>\n",
       "    <tr>\n",
       "      <th>wohnort_ost</th>\n",
       "      <td>False</td>\n",
       "    </tr>\n",
       "    <tr>\n",
       "      <th>kind</th>\n",
       "      <td>False</td>\n",
       "    </tr>\n",
       "    <tr>\n",
       "      <th>alter</th>\n",
       "      <td>35</td>\n",
       "    </tr>\n",
       "    <tr>\n",
       "      <th>selbstständig</th>\n",
       "      <td>False</td>\n",
       "    </tr>\n",
       "    <tr>\n",
       "      <th>hat_kinder</th>\n",
       "      <td>False</td>\n",
       "    </tr>\n",
       "    <tr>\n",
       "      <th>eink_selbst_m</th>\n",
       "      <td>0</td>\n",
       "    </tr>\n",
       "    <tr>\n",
       "      <th>ges_rente_m</th>\n",
       "      <td>0</td>\n",
       "    </tr>\n",
       "    <tr>\n",
       "      <th>prv_krankenv</th>\n",
       "      <td>False</td>\n",
       "    </tr>\n",
       "    <tr>\n",
       "      <th>kinderfreib_tu</th>\n",
       "      <td>0</td>\n",
       "    </tr>\n",
       "    <tr>\n",
       "      <th>_kindergeld_m_tu_basis</th>\n",
       "      <td>0</td>\n",
       "    </tr>\n",
       "  </tbody>\n",
       "</table>\n",
       "</div>"
      ],
      "text/plain": [
       "                                        0\n",
       "p_id                                    1\n",
       "tu_id                                   1\n",
       "hh_id                                   1\n",
       "bruttolohn_m                         2000\n",
       "_zu_verst_eink_kein_kinderfreib_tu  24000\n",
       "_zu_verst_kapital_eink_tu               0\n",
       "wohnort_ost                         False\n",
       "kind                                False\n",
       "alter                                  35\n",
       "selbstständig                       False\n",
       "hat_kinder                          False\n",
       "eink_selbst_m                           0\n",
       "ges_rente_m                             0\n",
       "prv_krankenv                        False\n",
       "kinderfreib_tu                          0\n",
       "_kindergeld_m_tu_basis                  0"
      ]
     },
     "execution_count": 2,
     "metadata": {},
     "output_type": "execute_result"
    }
   ],
   "source": [
    "data = pd.DataFrame(\n",
    "    {\n",
    "        \"p_id\": 1,\n",
    "        \"tu_id\": 1,\n",
    "        \"hh_id\": 1,\n",
    "        \"bruttolohn_m\": 2000,\n",
    "        \"_zu_verst_eink_kein_kinderfreib_tu\": 24000,\n",
    "        \"_zu_verst_kapital_eink_tu\": 0,\n",
    "        \"wohnort_ost\": False,\n",
    "        \"kind\": False,\n",
    "        \"alter\": 35,\n",
    "        \"selbstständig\": False,\n",
    "        \"hat_kinder\": False,\n",
    "        \"eink_selbst_m\": 0,\n",
    "        \"ges_rente_m\": 0,\n",
    "        \"prv_krankenv\": False,\n",
    "        \"kinderfreib_tu\": 0,\n",
    "        \"_kindergeld_m_tu_basis\": 0,\n",
    "    },\n",
    "    index=[0],\n",
    ")\n",
    "# Transpose data for better readability\n",
    "data.T"
   ]
  },
  {
   "cell_type": "markdown",
   "metadata": {},
   "source": [
    "As you can see, there are three identifiers: `p_id` identifies a person, `tu_id` a transfer unit and `hh_id` a household.\n",
    "\n",
    "`_m` means, that the variable labeled with this suffix is a monthly variable. Variables without this suffix are always on a yearly basis.\n",
    "\n",
    "In the same way, `_tu` and `_hh` mean, that the variable is to be interpreted on transfer unit level, or on houshold level, respectively. Variables without these suffixes are always on individual level."
   ]
  },
  {
   "cell_type": "markdown",
   "metadata": {},
   "source": [
    "#### Get parameters and functions\n",
    "\n",
    "With GETTSIM it is possible to compute taxes and transfers back to 2010. As the functions and parameters used by GETTSIM vary through the years, it is necessary to specify the year we are interested in. To do so, we have to use the function `get_policies_for_date` and take our year as a string:"
   ]
  },
  {
   "cell_type": "code",
   "execution_count": 3,
   "metadata": {},
   "outputs": [],
   "source": [
    "params_dict, policy_func_dict = set_up_policy_environment(\"05.09.2020\")"
   ]
  },
  {
   "cell_type": "markdown",
   "metadata": {},
   "source": [
    "The function returns two values: ```policy_func_dict``` contains the relevant functions for the year 2020. ```params_dict``` contains the relevant parameters. \n",
    "\n",
    "As for the moment we only have a look at a part of GETTSIM, we define and will pass a list with variables which GETTSIM would normally calculate based on a load of further variables, but which we want GETTSIM to take as given. You can see the values of them in the data frame we defined."
   ]
  },
  {
   "cell_type": "code",
   "execution_count": 4,
   "metadata": {},
   "outputs": [],
   "source": [
    "columns = [\n",
    "    \"_kindergeld_m_tu_basis\",\n",
    "    \"kinderfreib_tu\",\n",
    "    \"_zu_verst_kapital_eink_tu\",\n",
    "    \"_zu_verst_eink_kein_kinderfreib_tu\",\n",
    "]"
   ]
  },
  {
   "cell_type": "markdown",
   "metadata": {},
   "source": [
    "**Defining targets**\n",
    "\n",
    "Now we have to specify the variables we want GETTSIM to return, as without specifying them GETTSIM would try to compute every single variable in the tax and transfer system, which is not possible with our input data. For this purpose we define another list with the variables we are interested in (a list with all variables GETTSIM is able to compute can be found [here](https://gettsim.readthedocs.io/en/latest/crosswalk.html))."
   ]
  },
  {
   "cell_type": "code",
   "execution_count": 5,
   "metadata": {},
   "outputs": [],
   "source": [
    "targets = [\n",
    "    \"eink_st_tu\",\n",
    "    \"soli_st_tu\",\n",
    "    \"ges_krankenv_beitr_m\",\n",
    "    \"rentenv_beitr_m\",\n",
    "    \"arbeitsl_v_beitr_m\",\n",
    "    \"pflegev_beitr_m\",\n",
    "]"
   ]
  },
  {
   "cell_type": "markdown",
   "metadata": {},
   "source": [
    "As you may see from the variable names, we focus on the income tax, the Solidaritätszuschlag and the four social security contributions. Now we are approaching the core of it all: The function `compute_taxes_and_transfers` will now compute those targets, based on the input for the individual we defined.\n",
    "\n",
    "#### Compute targets"
   ]
  },
  {
   "cell_type": "code",
   "execution_count": 6,
   "metadata": {},
   "outputs": [
    {
     "data": {
      "text/html": [
       "<div>\n",
       "<style scoped>\n",
       "    .dataframe tbody tr th:only-of-type {\n",
       "        vertical-align: middle;\n",
       "    }\n",
       "\n",
       "    .dataframe tbody tr th {\n",
       "        vertical-align: top;\n",
       "    }\n",
       "\n",
       "    .dataframe thead th {\n",
       "        text-align: right;\n",
       "    }\n",
       "</style>\n",
       "<table border=\"1\" class=\"dataframe\">\n",
       "  <thead>\n",
       "    <tr style=\"text-align: right;\">\n",
       "      <th></th>\n",
       "      <th>0</th>\n",
       "    </tr>\n",
       "  </thead>\n",
       "  <tbody>\n",
       "    <tr>\n",
       "      <th>arbeitsl_v_beitr_m</th>\n",
       "      <td>24.00</td>\n",
       "    </tr>\n",
       "    <tr>\n",
       "      <th>eink_st_tu</th>\n",
       "      <td>3432.33</td>\n",
       "    </tr>\n",
       "    <tr>\n",
       "      <th>ges_krankenv_beitr_m</th>\n",
       "      <td>157.00</td>\n",
       "    </tr>\n",
       "    <tr>\n",
       "      <th>pflegev_beitr_m</th>\n",
       "      <td>35.50</td>\n",
       "    </tr>\n",
       "    <tr>\n",
       "      <th>rentenv_beitr_m</th>\n",
       "      <td>186.00</td>\n",
       "    </tr>\n",
       "    <tr>\n",
       "      <th>soli_st_tu</th>\n",
       "      <td>188.78</td>\n",
       "    </tr>\n",
       "  </tbody>\n",
       "</table>\n",
       "</div>"
      ],
      "text/plain": [
       "                            0\n",
       "arbeitsl_v_beitr_m      24.00\n",
       "eink_st_tu            3432.33\n",
       "ges_krankenv_beitr_m   157.00\n",
       "pflegev_beitr_m         35.50\n",
       "rentenv_beitr_m        186.00\n",
       "soli_st_tu             188.78"
      ]
     },
     "execution_count": 6,
     "metadata": {},
     "output_type": "execute_result"
    }
   ],
   "source": [
    "result = compute_taxes_and_transfers(\n",
    "    data=data,\n",
    "    functions=policy_func_dict,\n",
    "    columns_overriding_functions=columns,\n",
    "    params=params_dict,\n",
    "    targets=targets,\n",
    ")\n",
    "result.round(2).T"
   ]
  },
  {
   "cell_type": "markdown",
   "metadata": {},
   "source": [
    "As you can see, the function `compute_taxes_and_transfers` takes five inputs: Our data frame (`data`), the relevant functions (`policy_func_dict`) which, as you remember, are one of the two returns of the function `get_policies_for_date`, our additional pre-defined variables (`columns`), the other return of `get_policies_for_date` which are the relevant parameters (`params_dict`) and of course the targets we want to compute (`targets`). `result` is the data frame that contains the results for our individual.\n",
    "\n",
    "It is of course possible to join the data and the results:"
   ]
  },
  {
   "cell_type": "code",
   "execution_count": 7,
   "metadata": {},
   "outputs": [
    {
     "data": {
      "text/html": [
       "<div>\n",
       "<style scoped>\n",
       "    .dataframe tbody tr th:only-of-type {\n",
       "        vertical-align: middle;\n",
       "    }\n",
       "\n",
       "    .dataframe tbody tr th {\n",
       "        vertical-align: top;\n",
       "    }\n",
       "\n",
       "    .dataframe thead th {\n",
       "        text-align: right;\n",
       "    }\n",
       "</style>\n",
       "<table border=\"1\" class=\"dataframe\">\n",
       "  <thead>\n",
       "    <tr style=\"text-align: right;\">\n",
       "      <th></th>\n",
       "      <th>p_id</th>\n",
       "      <th>tu_id</th>\n",
       "      <th>hh_id</th>\n",
       "      <th>bruttolohn_m</th>\n",
       "      <th>_zu_verst_eink_kein_kinderfreib_tu</th>\n",
       "      <th>_zu_verst_kapital_eink_tu</th>\n",
       "      <th>wohnort_ost</th>\n",
       "      <th>kind</th>\n",
       "      <th>alter</th>\n",
       "      <th>selbstständig</th>\n",
       "      <th>...</th>\n",
       "      <th>ges_rente_m</th>\n",
       "      <th>prv_krankenv</th>\n",
       "      <th>kinderfreib_tu</th>\n",
       "      <th>_kindergeld_m_tu_basis</th>\n",
       "      <th>arbeitsl_v_beitr_m</th>\n",
       "      <th>eink_st_tu</th>\n",
       "      <th>ges_krankenv_beitr_m</th>\n",
       "      <th>pflegev_beitr_m</th>\n",
       "      <th>rentenv_beitr_m</th>\n",
       "      <th>soli_st_tu</th>\n",
       "    </tr>\n",
       "  </thead>\n",
       "  <tbody>\n",
       "    <tr>\n",
       "      <th>0</th>\n",
       "      <td>1</td>\n",
       "      <td>1</td>\n",
       "      <td>1</td>\n",
       "      <td>2000</td>\n",
       "      <td>24000</td>\n",
       "      <td>0</td>\n",
       "      <td>False</td>\n",
       "      <td>False</td>\n",
       "      <td>35</td>\n",
       "      <td>False</td>\n",
       "      <td>...</td>\n",
       "      <td>0</td>\n",
       "      <td>False</td>\n",
       "      <td>0</td>\n",
       "      <td>0</td>\n",
       "      <td>24.0</td>\n",
       "      <td>3432.334704</td>\n",
       "      <td>157.0</td>\n",
       "      <td>35.5</td>\n",
       "      <td>186.0</td>\n",
       "      <td>188.778459</td>\n",
       "    </tr>\n",
       "  </tbody>\n",
       "</table>\n",
       "<p>1 rows × 22 columns</p>\n",
       "</div>"
      ],
      "text/plain": [
       "   p_id  tu_id  hh_id  bruttolohn_m  _zu_verst_eink_kein_kinderfreib_tu  \\\n",
       "0     1      1      1          2000                               24000   \n",
       "\n",
       "   _zu_verst_kapital_eink_tu  wohnort_ost   kind  alter  selbstständig  ...  \\\n",
       "0                          0        False  False     35          False  ...   \n",
       "\n",
       "   ges_rente_m  prv_krankenv  kinderfreib_tu  _kindergeld_m_tu_basis  \\\n",
       "0            0         False               0                       0   \n",
       "\n",
       "   arbeitsl_v_beitr_m   eink_st_tu  ges_krankenv_beitr_m  pflegev_beitr_m  \\\n",
       "0                24.0  3432.334704                 157.0             35.5   \n",
       "\n",
       "   rentenv_beitr_m  soli_st_tu  \n",
       "0            186.0  188.778459  \n",
       "\n",
       "[1 rows x 22 columns]"
      ]
     },
     "execution_count": 7,
     "metadata": {},
     "output_type": "execute_result"
    }
   ],
   "source": [
    "data1=data.join(result)\n",
    "data1"
   ]
  },
  {
   "cell_type": "markdown",
   "metadata": {},
   "source": [
    "If you are interested in which *parameters* determine a certain transfer, e.g. Kindergeld, you can access them the following way:"
   ]
  },
  {
   "cell_type": "code",
   "execution_count": 8,
   "metadata": {},
   "outputs": [
    {
     "name": "stdout",
     "output_type": "stream",
     "text": [
      "eink_st\n",
      "eink_st_abzuege\n",
      "soli_st\n",
      "arbeitsl_geld_2\n",
      "arbeitsl_geld\n",
      "soz_vers_beitr\n",
      "unterhalt\n",
      "abgelt_st\n",
      "wohngeld\n",
      "kinderzuschlag\n",
      "kindergeld\n",
      "elterngeld\n"
     ]
    }
   ],
   "source": [
    "print(*params_dict.keys(),sep=\"\\n\")"
   ]
  },
  {
   "cell_type": "code",
   "execution_count": 9,
   "metadata": {},
   "outputs": [
    {
     "name": "stdout",
     "output_type": "stream",
     "text": [
      "kindergeld_hoechstalter\n",
      "kindergeld\n",
      "kindergeld_einkommensgrenze\n",
      "kindergeld_stundengrenze\n",
      "datum\n"
     ]
    }
   ],
   "source": [
    "print(*params_dict[\"kindergeld\"].keys(), sep=\"\\n\")"
   ]
  },
  {
   "cell_type": "code",
   "execution_count": 10,
   "metadata": {},
   "outputs": [
    {
     "data": {
      "text/plain": [
       "{1: 204, 2: 204, 3: 210, 4: 235}"
      ]
     },
     "execution_count": 10,
     "metadata": {},
     "output_type": "execute_result"
    }
   ],
   "source": [
    "params_dict[\"kindergeld\"][\"kindergeld\"]\n"
   ]
  },
  {
   "cell_type": "markdown",
   "metadata": {},
   "source": [
    "These parameters determine the Kindergeld.\n",
    "\n",
    "In Part 2 of the tutorial we will introduce other data structures to the use of GETTSIM and have a look on which data structure GETTSIM requires."
   ]
  }
 ],
 "metadata": {
  "kernelspec": {
   "display_name": "Python 3",
   "language": "python",
   "name": "python3"
  },
  "language_info": {
   "codemirror_mode": {
    "name": "ipython",
    "version": 3
   },
   "file_extension": ".py",
   "mimetype": "text/x-python",
   "name": "python",
   "nbconvert_exporter": "python",
   "pygments_lexer": "ipython3",
   "version": "3.8.3"
  }
 },
 "nbformat": 4,
 "nbformat_minor": 4
}
