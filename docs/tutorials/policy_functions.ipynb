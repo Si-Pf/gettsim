{
 "cells": [
  {
   "cell_type": "code",
   "execution_count": 1,
   "metadata": {},
   "outputs": [],
   "source": [
    "import pandas as pd\n",
    "import numpy as np\n",
    "\n",
    "import matplotlib.pyplot as plt\n",
    "\n",
    "from copy import deepcopy\n",
    "\n",
    "import gettsim\n",
    "from gettsim import set_up_policy_environment\n",
    "from gettsim import compute_taxes_and_transfers\n",
    "params_dict, policy_func_dict = set_up_policy_environment(\"2020\")\n"
   ]
  },
  {
   "cell_type": "markdown",
   "metadata": {},
   "source": [
    "# Policy Functions Tutorial\n",
    "\n",
    "If you are interested in modifying the German Tax and Transfer System, you can do so by changing the parameters of already existing fuctions (as we did in this (LINK) notebook), or you change the ```policy_func_dict``` itself by changing, adding or deleting functions to the dictionary.\n",
    "\n",
    "### 1. Change / Replace existing function(s)\n",
    "\n",
    "We illustrate how to change a function using an example. The steps will be the same for similar tasks. \n",
    "\n",
    "*Context of the example:In the German System, there are some transfers for low-income families that can´t be received in combination. Per default, GETTSIM will always choose the most favorable transfers and set other transfers to zero. This means that the family/household might be entitled to receive other transfers, but not in combination with the chosen, more benefitial transfers. This assumption could model the behavior of the households/families in a wrong way, if they do not always choose the optimal transfers (from a monetary perspective). E.g. there could be a social stigma connected to certain transfers or some people simply do not know about some of the available transfers. To account for these frictions, we can turn off this aspect of GETTSIM so that we see all the transfers a family/household is entitled to, even if the transfers can´t be received in combination.*\n",
    "\n",
    "#### 1.1 Find the Function\n",
    "\n",
    "Here we can look for the function that implements the aspect we want to change: https://gettsim.readthedocs.io/en/stable/functions.html \n",
    "\n",
    "#### 1.2 Define Changes to  the Function\n",
    "\n",
    "After you found the function that you want to change, copy the source code from the website to your notebook and change it just as you like:"
   ]
  },
  {
   "cell_type": "code",
   "execution_count": 2,
   "metadata": {},
   "outputs": [],
   "source": [
    "def arbeitsl_geld_2_m_hh(\n",
    "    arbeitsl_geld_2_m_minus_eink_hh,\n",
    "    wohngeld_vorrang_hh,\n",
    "    kinderzuschlag_vorrang_hh,\n",
    "    wohngeld_kinderzuschlag_vorrang_hh,\n",
    "    rentner_in_hh,\n",
    "):\n",
    "    out = arbeitsl_geld_2_m_minus_eink_hh.clip(lower=0)\n",
    "    cond = (\n",
    "        #wohngeld_vorrang_hh\n",
    "        #| kinderzuschlag_vorrang_hh\n",
    "        #| wohngeld_kinderzuschlag_vorrang_hh\n",
    "         rentner_in_hh\n",
    "    )\n",
    "    out.loc[cond] = 0\n",
    "    return out"
   ]
  },
  {
   "cell_type": "markdown",
   "metadata": {},
   "source": [
    "The lines of the cell above that start with \"#\" usually do the priority check as described above. With the hash, the lines become a comment and do not influence the code anymore.\n",
    "\n",
    "#### 1.3 Add Function to Dictionary\n",
    "\n",
    "There are different ways to make GETTSIM include your function. \n",
    "\n",
    "**One** way is to deepcopy the ```policy_func_dict``` and replace the  \"old\" function with the function we defined before."
   ]
  },
  {
   "cell_type": "code",
   "execution_count": 3,
   "metadata": {},
   "outputs": [],
   "source": [
    "policy_func_dict_reformed = deepcopy(policy_func_dict)\n",
    "policy_func_dict_reformed[\"arbeitsl_geld_2_m_hh\"] = arbeitsl_geld_2_m_hh"
   ]
  },
  {
   "cell_type": "markdown",
   "metadata": {},
   "source": [
    "Computations with the new ```policy_func_dict_reformed``` will now have the characteristic of showing the value of all available transfers without checking which ones can´t be received in combination and without choosing the most profitable combination. This is useful for further analysis. For example you could speculate which transfers Germans receive in reality and present this in GETTSIM. \n",
    "\n",
    "**Another** way would be to mention the changed function in our ```compute_taxes_and_transfers```-function. This works as follows: "
   ]
  },
  {
   "cell_type": "code",
   "execution_count": null,
   "metadata": {},
   "outputs": [],
   "source": [
    "df = compute_taxes_and_transfers(\n",
    "    data=data,\n",
    "    params=policy_params,\n",
    "    functions=[policy_functions, arbeitsl_geld_2_m_hh],\n",
    "    targets=\"arbeitsl_geld_2_m_hh\",\n",
    ")"
   ]
  },
  {
   "cell_type": "markdown",
   "metadata": {},
   "source": [
    "There are three important points:\n",
    "\n",
    "1. Note that ```arbeitsl_geld_2_m_hh``` has the same function name as a pre-defined function inside gettsim. Thus, the internal function will be replaced with this version.\n",
    "\n",
    "2. In general, if there are multiple functions with the same name, internal functions have the lowest precedence. After that, the elements in the list passed to the ```functions``` argument are evaluated element by element. The leftmost element has the lowest precedence and the rightmost element the highest.\n",
    "\n",
    "3. If ```policy_functions``` would not be necessary for this example, you can also directly pass the ```arbeitsl_geld_2_m_hh``` function to the ```functions``` argument.\n",
    "\n",
    "#### 1.4 Multiple Functions\n",
    "\n",
    "You can use exactly the same approach if you want to add more than one function to GETTSIM. If you would change ```arbeitsl_geld_2_m_hh``` and ```kindergeld_m_hh```, your two options would be..."
   ]
  },
  {
   "cell_type": "code",
   "execution_count": null,
   "metadata": {},
   "outputs": [],
   "source": [
    "policy_func_dict_reformed = deepcopy(policy_func_dict)\n",
    "policy_func_dict_reformed[\"arbeitsl_geld_2_m_hh\"] = arbeitsl_geld_2_m_hh\n",
    "policy_func_dict_reformed[\"kindergeld_m_hh\"] = kindergeld_m_hh"
   ]
  },
  {
   "cell_type": "markdown",
   "metadata": {},
   "source": [
    "or..."
   ]
  },
  {
   "cell_type": "code",
   "execution_count": null,
   "metadata": {},
   "outputs": [],
   "source": [
    "df = compute_taxes_and_transfers(\n",
    "    data=data,\n",
    "    params=policy_params,\n",
    "    functions=[policy_functions, arbeitsl_geld_2_m_hh, kindergeld_m_hh],\n",
    "    targets=[\"arbeitsl_geld_2_m_hh\", \"kindergeld_m_hh\"],\n",
    ")"
   ]
  },
  {
   "cell_type": "markdown",
   "metadata": {},
   "source": [
    "### 2. Add a new function\n",
    "\n",
    "#### 2.1 Define Function\n",
    "\n",
    "One transfer that doesn´t exist, but is easy to implement in GETTSIM could be a unconditional basic income for every citizen. Every household receives the unconditional basic income multiplied by the size of the household. We set the unconditional basic income on 1000€: "
   ]
  },
  {
   "cell_type": "code",
   "execution_count": 4,
   "metadata": {},
   "outputs": [],
   "source": [
    "def basic_income_m_hh(hh_id):\n",
    "     return hh_id.groupby(hh_id).size() * 1000\n",
    "    "
   ]
  },
  {
   "cell_type": "markdown",
   "metadata": {},
   "source": [
    "Maybe it can be helpful to use an existing function as a template and change the parameters and the body of the function accordingly. You can find suitable templates here: https://gettsim.readthedocs.io/en/stable/functions.html \n",
    "\n",
    "#### 2.2 Add Function to Dictionary"
   ]
  },
  {
   "cell_type": "code",
   "execution_count": 5,
   "metadata": {},
   "outputs": [],
   "source": [
    "policy_func_dict_with_basic_income = deepcopy(policy_func_dict)\n",
    "policy_func_dict_with_basic_income[\"basic_income_m_hh\"] = basic_income_m_hh"
   ]
  },
  {
   "cell_type": "markdown",
   "metadata": {},
   "source": [
    "#### (2.3 Check if it Works)\n",
    "\n",
    "We can define some exemplary data easily. All we need is a  ```p_id``` and a ```hh_id```. Everything else is irrelevant for this example, because the transfer does not depend on any conditions. As a result we should see 4000€, because the simulated household has four members."
   ]
  },
  {
   "cell_type": "code",
   "execution_count": 6,
   "metadata": {
    "scrolled": true
   },
   "outputs": [
    {
     "data": {
      "text/html": [
       "<div>\n",
       "<style scoped>\n",
       "    .dataframe tbody tr th:only-of-type {\n",
       "        vertical-align: middle;\n",
       "    }\n",
       "\n",
       "    .dataframe tbody tr th {\n",
       "        vertical-align: top;\n",
       "    }\n",
       "\n",
       "    .dataframe thead th {\n",
       "        text-align: right;\n",
       "    }\n",
       "</style>\n",
       "<table border=\"1\" class=\"dataframe\">\n",
       "  <thead>\n",
       "    <tr style=\"text-align: right;\">\n",
       "      <th></th>\n",
       "      <th>p_id</th>\n",
       "      <th>hh_id</th>\n",
       "    </tr>\n",
       "  </thead>\n",
       "  <tbody>\n",
       "    <tr>\n",
       "      <th>0</th>\n",
       "      <td>0</td>\n",
       "      <td>1</td>\n",
       "    </tr>\n",
       "    <tr>\n",
       "      <th>1</th>\n",
       "      <td>1</td>\n",
       "      <td>1</td>\n",
       "    </tr>\n",
       "    <tr>\n",
       "      <th>2</th>\n",
       "      <td>2</td>\n",
       "      <td>1</td>\n",
       "    </tr>\n",
       "    <tr>\n",
       "      <th>3</th>\n",
       "      <td>3</td>\n",
       "      <td>1</td>\n",
       "    </tr>\n",
       "  </tbody>\n",
       "</table>\n",
       "</div>"
      ],
      "text/plain": [
       "  p_id hh_id\n",
       "0    0     1\n",
       "1    1     1\n",
       "2    2     1\n",
       "3    3     1"
      ]
     },
     "execution_count": 6,
     "metadata": {},
     "output_type": "execute_result"
    }
   ],
   "source": [
    "data = pd.DataFrame(index=np.arange(0, 4), columns=('p_id', 'hh_id') )\n",
    "\n",
    "for x in np.arange(0, 4):\n",
    "    data.loc[x] = [x, \"1\"]\n",
    "    \n",
    "data"
   ]
  },
  {
   "cell_type": "code",
   "execution_count": 7,
   "metadata": {},
   "outputs": [],
   "source": [
    "targets = [\n",
    "    \"basic_income_m_hh\",\n",
    "    ]"
   ]
  },
  {
   "cell_type": "code",
   "execution_count": 8,
   "metadata": {},
   "outputs": [
    {
     "data": {
      "text/html": [
       "<div>\n",
       "<style scoped>\n",
       "    .dataframe tbody tr th:only-of-type {\n",
       "        vertical-align: middle;\n",
       "    }\n",
       "\n",
       "    .dataframe tbody tr th {\n",
       "        vertical-align: top;\n",
       "    }\n",
       "\n",
       "    .dataframe thead th {\n",
       "        text-align: right;\n",
       "    }\n",
       "</style>\n",
       "<table border=\"1\" class=\"dataframe\">\n",
       "  <thead>\n",
       "    <tr style=\"text-align: right;\">\n",
       "      <th></th>\n",
       "      <th>basic_income_m_hh</th>\n",
       "    </tr>\n",
       "  </thead>\n",
       "  <tbody>\n",
       "    <tr>\n",
       "      <th>0</th>\n",
       "      <td>4000</td>\n",
       "    </tr>\n",
       "    <tr>\n",
       "      <th>1</th>\n",
       "      <td>4000</td>\n",
       "    </tr>\n",
       "    <tr>\n",
       "      <th>2</th>\n",
       "      <td>4000</td>\n",
       "    </tr>\n",
       "    <tr>\n",
       "      <th>3</th>\n",
       "      <td>4000</td>\n",
       "    </tr>\n",
       "  </tbody>\n",
       "</table>\n",
       "</div>"
      ],
      "text/plain": [
       "   basic_income_m_hh\n",
       "0               4000\n",
       "1               4000\n",
       "2               4000\n",
       "3               4000"
      ]
     },
     "execution_count": 8,
     "metadata": {},
     "output_type": "execute_result"
    }
   ],
   "source": [
    "df = compute_taxes_and_transfers(\n",
    "    data=data,\n",
    "    functions=policy_func_dict_with_basic_income,\n",
    "    params=params_dict,\n",
    "    targets= targets,\n",
    ")\n",
    "df"
   ]
  },
  {
   "cell_type": "markdown",
   "metadata": {},
   "source": [
    "Looks like we implemented our new transfer correctly!"
   ]
  }
 ],
 "metadata": {
  "kernelspec": {
   "display_name": "Python 3",
   "language": "python",
   "name": "python3"
  },
  "language_info": {
   "codemirror_mode": {
    "name": "ipython",
    "version": 3
   },
   "file_extension": ".py",
   "mimetype": "text/x-python",
   "name": "python",
   "nbconvert_exporter": "python",
   "pygments_lexer": "ipython3",
   "version": "3.8.3"
  }
 },
 "nbformat": 4,
 "nbformat_minor": 4
}
