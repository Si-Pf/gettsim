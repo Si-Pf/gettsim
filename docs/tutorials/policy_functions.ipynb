{
 "cells": [
  {
   "cell_type": "code",
   "execution_count": 3,
   "metadata": {},
   "outputs": [],
   "source": [
    "import pandas as pd\n",
    "import numpy as np\n",
    "\n",
    "import matplotlib.pyplot as plt\n",
    "\n",
    "from copy import deepcopy\n",
    "\n",
    "import gettsim\n",
    "from gettsim import get_policies_for_date\n",
    "from gettsim import compute_taxes_and_transfers\n",
    "params_dict, policy_func_dict = get_policies_for_date(\"2020\")\n"
   ]
  },
  {
   "cell_type": "markdown",
   "metadata": {},
   "source": [
    "# Policy Functions Tutorial\n",
    "\n",
    "If you are interested in modifying the German Tax and Transfer System, you can do so by changing the parameters of already existing fuctions (as we did in this (LINK) notebook), or you change the ```policy_func_dict``` itself by changing, adding or deleting functions to the dictionary.\n",
    "\n",
    "### 1. Change an existing function\n",
    "\n",
    "We illustrate how to change a function using an example. The steps will be the same for similar tasks. \n",
    "\n",
    "In the German System, there are some transfers for low-income families that can´t be received in combination. Per default, GETTSIM will always choose the most favorable transfers and set other transfers to zero. This means that the family/household might be entitled to receive these other transfers, but not in combination with the chosen, more benefitial transfers. This assumption could model the behavior of the households/families in a wrong way, if they do not always choose the optimal transfers (from a monetary perspective). E.g. there could be a social stigma connected to certain transfers or some people simply do not know about some of the available transfers. To account for these frictions, we can turn off this function of GETTSIM so that we see all the transfers a family/household is entitled to, even if the transfers can´t be received in combination. \n",
    "\n",
    "#### 1.1 Find the Function\n",
    "\n",
    "Here we can look for the function that we want to change: https://gettsim.readthedocs.io/en/stable/functions.html \n",
    "\n",
    "#### 1.2 Define Changes to  the Function\n",
    "\n",
    "After you found the function that you want to change, copy the source code from the website to your notebook and change it just as you like:"
   ]
  },
  {
   "cell_type": "code",
   "execution_count": 4,
   "metadata": {},
   "outputs": [],
   "source": [
    "def arbeitsl_geld_2_m_hh(\n",
    "    arbeitsl_geld_2_m_minus_eink_hh,\n",
    "    wohngeld_vorrang_hh,\n",
    "    kinderzuschlag_vorrang_hh,\n",
    "    wohngeld_kinderzuschlag_vorrang_hh,\n",
    "    rentner_in_hh,\n",
    "):\n",
    "    out = arbeitsl_geld_2_m_minus_eink_hh.clip(lower=0)\n",
    "    cond = (\n",
    "        #wohngeld_vorrang_hh\n",
    "        #| kinderzuschlag_vorrang_hh\n",
    "        #| wohngeld_kinderzuschlag_vorrang_hh\n",
    "         rentner_in_hh\n",
    "    )\n",
    "    out.loc[cond] = 0\n",
    "    return out"
   ]
  },
  {
   "cell_type": "markdown",
   "metadata": {},
   "source": [
    "The lines of the cell above that start with \"#\" usually do the priority check as described above. With the hash, the lines become a comment and do not influence the code anymore.\n",
    "\n",
    "#### 1.3 Add changed Function to Dictionary\n",
    "\n",
    "Now we deepcopy the ```policy_func_dict``` and replace the function with the changed function which we defined before."
   ]
  },
  {
   "cell_type": "code",
   "execution_count": 59,
   "metadata": {},
   "outputs": [],
   "source": [
    "policy_func_dict_reformed = deepcopy(policy_func_dict)\n",
    "policy_func_dict_reformed[\"arbeitsl_geld_2_m_hh\"] = arbeitsl_geld_2_m_hh"
   ]
  },
  {
   "cell_type": "markdown",
   "metadata": {},
   "source": [
    "Computations with the new ```policy_func_dict_reformed``` will now have the characteristic of showing the value of all available transfers without checking which ones can´t be received in combination and without choosing the most profitable combination. This is useful for further analysis. For example you could speculate which transfers Germans receive in reality and present this in GETTSIM. \n",
    "\n",
    "### 2. Add new function\n",
    "\n",
    "#### 2.1 Define Function\n",
    "\n",
    "One transfer that doesn´t exist, but is easy to implement in GETTSIM could be a unconditional basic income for every citizen. Every household receives the unconditional basic income multiplied by the size of the household. We set the unconditional basic income on 1000€: "
   ]
  },
  {
   "cell_type": "code",
   "execution_count": 41,
   "metadata": {},
   "outputs": [],
   "source": [
    "def basic_income_m_hh(hh_id):\n",
    "     return hh_id.groupby(hh_id).size() * 1000\n",
    "    "
   ]
  },
  {
   "cell_type": "markdown",
   "metadata": {},
   "source": [
    "Maybe it can be helpful to use an existing function as a template and change the parameters and the body of the function accordingly. You can find suitable templates here: https://gettsim.readthedocs.io/en/stable/functions.html \n",
    "\n",
    "#### 2.2 Add Function to Dictionary"
   ]
  },
  {
   "cell_type": "code",
   "execution_count": 42,
   "metadata": {},
   "outputs": [],
   "source": [
    "policy_func_dict_with_basic_income = deepcopy(policy_func_dict)\n",
    "policy_func_dict_with_basic_income[\"basic_income_m_hh\"] = basic_income_m_hh"
   ]
  },
  {
   "cell_type": "markdown",
   "metadata": {},
   "source": [
    "#### 2.3 Check if it Works\n",
    "\n",
    "We can define some exemplary data easily. All we need is a  ```p_id``` and a ```hh_id```. Everything else is irrelevant for this example, because the transfer does not depend on any conditions. As a result we should see 4000€, because the simulated household has four members."
   ]
  },
  {
   "cell_type": "code",
   "execution_count": 49,
   "metadata": {
    "scrolled": true
   },
   "outputs": [
    {
     "data": {
      "text/html": [
       "<div>\n",
       "<style scoped>\n",
       "    .dataframe tbody tr th:only-of-type {\n",
       "        vertical-align: middle;\n",
       "    }\n",
       "\n",
       "    .dataframe tbody tr th {\n",
       "        vertical-align: top;\n",
       "    }\n",
       "\n",
       "    .dataframe thead th {\n",
       "        text-align: right;\n",
       "    }\n",
       "</style>\n",
       "<table border=\"1\" class=\"dataframe\">\n",
       "  <thead>\n",
       "    <tr style=\"text-align: right;\">\n",
       "      <th></th>\n",
       "      <th>p_id</th>\n",
       "      <th>hh_id</th>\n",
       "    </tr>\n",
       "  </thead>\n",
       "  <tbody>\n",
       "    <tr>\n",
       "      <th>0</th>\n",
       "      <td>0</td>\n",
       "      <td>1</td>\n",
       "    </tr>\n",
       "    <tr>\n",
       "      <th>1</th>\n",
       "      <td>1</td>\n",
       "      <td>1</td>\n",
       "    </tr>\n",
       "    <tr>\n",
       "      <th>2</th>\n",
       "      <td>2</td>\n",
       "      <td>1</td>\n",
       "    </tr>\n",
       "    <tr>\n",
       "      <th>3</th>\n",
       "      <td>3</td>\n",
       "      <td>1</td>\n",
       "    </tr>\n",
       "  </tbody>\n",
       "</table>\n",
       "</div>"
      ],
      "text/plain": [
       "  p_id hh_id\n",
       "0    0     1\n",
       "1    1     1\n",
       "2    2     1\n",
       "3    3     1"
      ]
     },
     "execution_count": 49,
     "metadata": {},
     "output_type": "execute_result"
    }
   ],
   "source": [
    "data = pd.DataFrame(index=np.arange(0, 4), columns=('p_id', 'hh_id') )\n",
    "\n",
    "for x in np.arange(0, 4):\n",
    "    data.loc[x] = [x, \"1\"]\n",
    "    \n",
    "data"
   ]
  },
  {
   "cell_type": "code",
   "execution_count": 50,
   "metadata": {},
   "outputs": [],
   "source": [
    "targets = [\n",
    "    \"basic_income_m_hh\",\n",
    "    ]"
   ]
  },
  {
   "cell_type": "code",
   "execution_count": 51,
   "metadata": {},
   "outputs": [
    {
     "data": {
      "text/plain": [
       "0    4000\n",
       "1    4000\n",
       "2    4000\n",
       "3    4000\n",
       "Name: basic_income_m_hh, dtype: int64"
      ]
     },
     "execution_count": 51,
     "metadata": {},
     "output_type": "execute_result"
    }
   ],
   "source": [
    "df = compute_taxes_and_transfers(\n",
    "    data=data,\n",
    "    user_functions=policy_func_dict_with_basic_income,\n",
    "    params=params_dict,\n",
    "    targets= targets,\n",
    ")\n",
    "df"
   ]
  },
  {
   "cell_type": "markdown",
   "metadata": {},
   "source": [
    "Looks like we implemented our new transfer correctly!"
   ]
  }
 ],
 "metadata": {
  "kernelspec": {
   "display_name": "Python 3",
   "language": "python",
   "name": "python3"
  },
  "language_info": {
   "codemirror_mode": {
    "name": "ipython",
    "version": 3
   },
   "file_extension": ".py",
   "mimetype": "text/x-python",
   "name": "python",
   "nbconvert_exporter": "python",
   "pygments_lexer": "ipython3",
   "version": "3.7.6"
  }
 },
 "nbformat": 4,
 "nbformat_minor": 4
}
